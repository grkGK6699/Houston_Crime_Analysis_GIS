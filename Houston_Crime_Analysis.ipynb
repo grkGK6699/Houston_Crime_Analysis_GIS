{
 "cells": [
  {
   "cell_type": "code",
   "execution_count": null,
   "id": "f0598fc9",
   "metadata": {
    "scrolled": true
   },
   "outputs": [],
   "source": [
    "#!pip install folium"
   ]
  },
  {
   "cell_type": "code",
   "execution_count": null,
   "id": "ad922576",
   "metadata": {
    "scrolled": true
   },
   "outputs": [],
   "source": [
    "import pandas as pd\n",
    "import numpy as np\n",
    "import matplotlib.pyplot as plt\n",
    "import seaborn as sns\n",
    "import folium\n",
    "from folium.plugins import MarkerCluster\n",
    "from folium import Choropleth\n",
    "import geopandas as gpd\n",
    "import os\n",
    "import warnings\n",
    "warnings.filterwarnings('ignore')\n"
   ]
  },
  {
   "cell_type": "code",
   "execution_count": null,
   "id": "e6855c84",
   "metadata": {
    "scrolled": true
   },
   "outputs": [],
   "source": [
    "def fetch_files_path(dir_path):\n",
    "    file_paths=[]\n",
    "    files = os.listdir(path)\n",
    "    csv_files = [file for file in files if file.endswith(\".csv\")]\n",
    "    for csv_file in csv_files:\n",
    "        file_paths.append(os.path.join(path, csv_file))\n",
    "    return file_paths"
   ]
  },
  {
   "cell_type": "code",
   "execution_count": null,
   "id": "d43473d4",
   "metadata": {
    "scrolled": true
   },
   "outputs": [],
   "source": [
    "path= \"C:\\\\Users\\\\LENOVO\\\\OneDrive - University Of Houston (1)\\\\Desktop\\\\UH\\\\@Projects\\\\Crime_Analysis_cleaned_data\"\n",
    "list_files=fetch_files_path(path)"
   ]
  },
  {
   "cell_type": "code",
   "execution_count": null,
   "id": "a3016420",
   "metadata": {
    "scrolled": true
   },
   "outputs": [],
   "source": [
    "df_dict={}\n",
    "k=2009\n",
    "for i in list_files:\n",
    "    df=pd.read_csv(i)\n",
    "    df_dict[f'df_{k}']=df\n",
    "    k+=1"
   ]
  },
  {
   "cell_type": "code",
   "execution_count": null,
   "id": "9589c7ac",
   "metadata": {
    "scrolled": true
   },
   "outputs": [],
   "source": [
    "df_dict.keys()"
   ]
  },
  {
   "cell_type": "code",
   "execution_count": null,
   "id": "92df5e96",
   "metadata": {
    "scrolled": true
   },
   "outputs": [],
   "source": [
    "for i in df_dict.keys():\n",
    "    print(i,df_dict[i].shape)"
   ]
  },
  {
   "cell_type": "code",
   "execution_count": null,
   "id": "22c76efd",
   "metadata": {
    "scrolled": true
   },
   "outputs": [],
   "source": [
    "df_dict['df_2020'].columns"
   ]
  },
  {
   "cell_type": "code",
   "execution_count": null,
   "id": "7f6d32ae",
   "metadata": {
    "scrolled": true
   },
   "outputs": [],
   "source": [
    "df_dict['df_2023'].columns"
   ]
  },
  {
   "cell_type": "code",
   "execution_count": null,
   "id": "d7a20403",
   "metadata": {
    "scrolled": true
   },
   "outputs": [],
   "source": [
    "col=list(df_dict['df_2015'].columns)\n",
    "print(\"List of extra columns:\")\n",
    "for i in df_dict.keys():\n",
    "    for i in list(df_dict[i].columns):\n",
    "        if i not in col:\n",
    "            print(i)\n",
    "            col.append(str(i))"
   ]
  },
  {
   "cell_type": "code",
   "execution_count": null,
   "id": "8c6955f6",
   "metadata": {
    "scrolled": true
   },
   "outputs": [],
   "source": [
    "print(\"List of all columns:\\n\",col)"
   ]
  },
  {
   "cell_type": "code",
   "execution_count": null,
   "id": "86a63acf",
   "metadata": {
    "scrolled": true
   },
   "outputs": [],
   "source": []
  },
  {
   "cell_type": "markdown",
   "id": "67ce8414",
   "metadata": {},
   "source": [
    "### Replacing columns with calculated columns. (Only when both of them are present in the data)"
   ]
  },
  {
   "cell_type": "code",
   "execution_count": null,
   "id": "c5d40211",
   "metadata": {
    "scrolled": true
   },
   "outputs": [],
   "source": [
    "#replacing date with mode_date column and Beat with Calculated Beat column\n",
    "#only when either of the replacement is available in the dataframe\n",
    "for i in df_dict.keys():\n",
    "    col=list(df_dict[i].columns)\n",
    "    if ('Mod_Date' in col) and ('Date' in col):\n",
    "        df_dict[i]=df_dict[i].drop(columns=['Date'])\n",
    "        df_dict[i]=df_dict[i].rename(columns={'Mod_Date': 'Date'})\n",
    "    if ('Calculated_Beat' in col) and ('Beat' in col):\n",
    "        df_dict[i]=df_dict[i].drop(columns=['Beat'])\n",
    "        df_dict[i]=df_dict[i].rename(columns={'Calculated_Beat': 'Beat'})\n",
    "    if ('Street Name' in col):\n",
    "        df_dict[i]=df_dict[i].rename(columns={'Street Name': 'StreetName'})\n",
    "    if ('Block Range' in col):\n",
    "        df_dict[i]=df_dict[i].rename(columns={'Block Range': 'BlockRange'})\n",
    "    if ('NIBRS Class' in col):\n",
    "        df_dict[i]=df_dict[i].rename(columns={'NIBRS Class': 'NIBRSClass'})\n",
    "    if ('NIBRS Class' in col):\n",
    "        df_dict[i]=df_dict[i].rename(columns={'ZIP Code': 'ZIPCode'})"
   ]
  },
  {
   "cell_type": "code",
   "execution_count": null,
   "id": "514fa801",
   "metadata": {
    "scrolled": true
   },
   "outputs": [],
   "source": [
    "for i in df_dict.keys():\n",
    "    print(i,df_dict[i].shape)"
   ]
  },
  {
   "cell_type": "code",
   "execution_count": null,
   "id": "d1027d80",
   "metadata": {
    "scrolled": true
   },
   "outputs": [],
   "source": [
    "col=list(df_dict['df_2015'].columns)\n",
    "print(\"List of extra columns:\")\n",
    "for i in df_dict.keys():\n",
    "    for i in list(df_dict[i].columns):\n",
    "        if i not in col:\n",
    "            print(i)\n",
    "            col.append(str(i))"
   ]
  },
  {
   "cell_type": "code",
   "execution_count": null,
   "id": "262da812",
   "metadata": {
    "scrolled": true
   },
   "outputs": [],
   "source": [
    "col=list(df_dict['df_2015'].columns)\n",
    "col"
   ]
  },
  {
   "cell_type": "code",
   "execution_count": null,
   "id": "371a2026",
   "metadata": {
    "scrolled": true
   },
   "outputs": [],
   "source": [
    "k = 2019\n",
    "plt.rcParams['figure.figsize'] = (20, 9)\n",
    "for i in range(5):\n",
    "    plt.subplot(3,2,i+1)\n",
    "    plt.style.use('bmh')\n",
    "    sns.countplot(df_dict[f'df_{k}']['NIBRSClass'], palette = 'gnuplot')\n",
    "    plt.title(f'Major Crimes in Houston for {k}', fontweight = 30, fontsize = 20)\n",
    "    plt.xticks(rotation = 90)\n",
    "    k+=1\n",
    "plt.tight_layout()\n",
    "plt.show()"
   ]
  },
  {
   "cell_type": "code",
   "execution_count": null,
   "id": "2e45003a",
   "metadata": {
    "scrolled": true
   },
   "outputs": [],
   "source": []
  },
  {
   "cell_type": "markdown",
   "id": "63694a15",
   "metadata": {},
   "source": [
    "### 2022-2023 dataset contains the latitude and longitude data"
   ]
  },
  {
   "cell_type": "code",
   "execution_count": null,
   "id": "40037441",
   "metadata": {
    "scrolled": true
   },
   "outputs": [],
   "source": [
    "df_coordinates = pd.concat([df_dict['df_2023'], df_dict['df_2022']])\n",
    "df_coordinates.reset_index(drop=True, inplace=True)\n",
    "df_coordinates = df_coordinates.dropna(subset = ['MapLongitude', 'MapLatitude'])"
   ]
  },
  {
   "cell_type": "code",
   "execution_count": null,
   "id": "2cd7ca51",
   "metadata": {
    "scrolled": true
   },
   "outputs": [],
   "source": [
    "df_coordinates.head()"
   ]
  },
  {
   "cell_type": "code",
   "execution_count": null,
   "id": "8ae81752",
   "metadata": {
    "scrolled": true
   },
   "outputs": [],
   "source": [
    "df_coordinates.shape"
   ]
  },
  {
   "cell_type": "code",
   "execution_count": null,
   "id": "1bdb5e27",
   "metadata": {
    "scrolled": true
   },
   "outputs": [],
   "source": [
    "plt.rcParams['figure.figsize'] = (20, 9)\n",
    "plt.style.use('bmh')\n",
    "sns.countplot(df_coordinates['NIBRSClass'], palette = 'gnuplot')\n",
    "plt.title('Major Crimes in Houston for 2022-2023', fontweight = 30, fontsize = 20)\n",
    "plt.xticks(rotation = 90)\n",
    "plt.show()"
   ]
  },
  {
   "cell_type": "code",
   "execution_count": null,
   "id": "da8a6efb",
   "metadata": {
    "scrolled": true
   },
   "outputs": [],
   "source": [
    "map = folium.Map(location=[29.7604, -95.3698], zoom_start=10)\n",
    "\n",
    "for index, row in df_coordinates[410000:].iterrows():\n",
    "    folium.CircleMarker(location=[row['MapLatitude'], row['MapLongitude']], radius=0.5, color='red', fill_color='red', fill_opacity=1).add_to(map)\n",
    "\n",
    "# Display the map\n",
    "map"
   ]
  },
  {
   "cell_type": "code",
   "execution_count": null,
   "id": "dd750756",
   "metadata": {
    "scrolled": true
   },
   "outputs": [],
   "source": [
    "# Create a Folium map centered around Houston\n",
    "houston_map = folium.Map(location=[29.7604, -95.3698], zoom_start=11)\n",
    "\n",
    "# Define the crime levels based on some criteria (you can adjust this based on your data)\n",
    "low_crime_threshold = 1\n",
    "high_crime_threshold = 5\n",
    "\n",
    "# Create MarkerClusters for better visualization of multiple markers\n",
    "marker_cluster_low = MarkerCluster(name='Low Crime')\n",
    "marker_cluster_moderate = MarkerCluster(name='Moderate Crime')\n",
    "marker_cluster_high = MarkerCluster(name='High Crime')\n",
    "\n",
    "# Iterate over the rows of the DataFrame and add markers to the appropriate MarkerCluster\n",
    "df_tmp=df_coordinates[40000:]\n",
    "for index, row in df_tmp.iterrows():\n",
    "    if row['Offenses'] < low_crime_threshold:\n",
    "        marker_cluster_low.add_child(folium.Marker(location=[row['MapLatitude'], row['MapLongitude']],\n",
    "                                                   popup=row['Offense Type'],\n",
    "                                                   icon=folium.Icon(color='blue')))\n",
    "    elif low_crime_threshold <= row['Offenses'] < high_crime_threshold:\n",
    "        marker_cluster_moderate.add_child(folium.Marker(location=[row['MapLatitude'], row['MapLongitude']],\n",
    "                                                         popup=row['Offense Type'],\n",
    "                                                         icon=folium.Icon(color='yellow')))\n",
    "    else:\n",
    "        marker_cluster_high.add_child(folium.Marker(location=[row['MapLatitude'], row['MapLongitude']],\n",
    "                                                     popup=row['Offense Type'],\n",
    "                                                     icon=folium.Icon(color='red')))\n",
    "\n",
    "# Add MarkerClusters to the map\n",
    "houston_map.add_child(marker_cluster_low)\n",
    "houston_map.add_child(marker_cluster_moderate)\n",
    "houston_map.add_child(marker_cluster_high)\n",
    "\n",
    "# Add LayerControl for toggling marker clusters\n",
    "folium.LayerControl().add_to(houston_map)\n",
    "\n",
    "# Save or display the map\n",
    "houston_map.save('crime_map.html')  # Save to an HTML file\n",
    "houston_map\n"
   ]
  },
  {
   "cell_type": "code",
   "execution_count": null,
   "id": "30c6584e",
   "metadata": {
    "scrolled": true
   },
   "outputs": [],
   "source": [
    "# Assuming df is your DataFrame with the crime data\n",
    "# Assuming geojson_file is your GeoJSON file with Houston's geographical boundaries\n",
    "geojson_file = gpd.read_file(\"C:\\\\Users\\\\LENOVO\\\\OneDrive - University Of Houston (1)\\\\Desktop\\\\UH\\\\@Projects\\\\Crime_analysis\\\\COH_ZIPCODE.geojson\")\n",
    "# Assuming 'ZIPCode' is the common column for merging\n",
    "geojson_file.head()"
   ]
  },
  {
   "cell_type": "code",
   "execution_count": null,
   "id": "e995da61",
   "metadata": {
    "scrolled": true
   },
   "outputs": [],
   "source": [
    "geojson_file.info()"
   ]
  },
  {
   "cell_type": "code",
   "execution_count": null,
   "id": "d4aa8299",
   "metadata": {
    "scrolled": true
   },
   "outputs": [],
   "source": [
    "# Assuming 'ZIPCode' is the column you want to convert to float\n",
    "geojson_file['Zip_Code'] = pd.to_numeric(geojson_file['Zip_Code'], errors='coerce').astype(float)"
   ]
  },
  {
   "cell_type": "code",
   "execution_count": null,
   "id": "6d241571",
   "metadata": {
    "scrolled": true
   },
   "outputs": [],
   "source": [
    "merged_data = pd.merge(geojson_file, df_coordinates, left_on='Zip_Code', right_on='ZIPCode', how='left')\n",
    "houston_map = folium.Map(location=[29.7604, -95.3698], zoom_start=11)"
   ]
  },
  {
   "cell_type": "code",
   "execution_count": null,
   "id": "77dc44b9",
   "metadata": {
    "scrolled": true
   },
   "outputs": [],
   "source": []
  },
  {
   "cell_type": "code",
   "execution_count": null,
   "id": "0fbcd428",
   "metadata": {
    "scrolled": true
   },
   "outputs": [],
   "source": [
    "Choropleth(\n",
    "    geo_data=geojson_file,\n",
    "    name='choropleth',\n",
    "    data=merged_data,\n",
    "    columns=['Zip_Code', 'Offenses'],\n",
    "    key_on='feature.properties.Zip_Code',\n",
    "    fill_color='RdYlGn',\n",
    "    fill_opacity=0.7,\n",
    "    line_opacity=0.2,\n",
    "    legend_name='Crime Intensity'\n",
    ").add_to(houston_map)\n",
    "\n",
    "folium.LayerControl().add_to(houston_map)\n",
    "\n",
    "# Save or display the map\n",
    "houston_map.save('choropleth_map.html')  # Save to an HTML file\n",
    "houston_map"
   ]
  },
  {
   "cell_type": "markdown",
   "id": "2ded48b8",
   "metadata": {},
   "source": [
    "## 2019-2023 dataset "
   ]
  },
  {
   "cell_type": "code",
   "execution_count": null,
   "id": "03e9d8df",
   "metadata": {
    "scrolled": true
   },
   "outputs": [],
   "source": [
    "columns_to_drop = ['MapLongitude', 'MapLatitude']\n",
    "df1= df_coordinates.drop(columns=columns_to_drop)\n",
    "\n",
    "df_2019_2023 = pd.concat([df1, df_dict['df_2021'], df_dict['df_2020'], df_dict['df_2019']])\n",
    "df_2019_2023.reset_index(drop=True, inplace=True)"
   ]
  },
  {
   "cell_type": "code",
   "execution_count": null,
   "id": "76985b9a",
   "metadata": {
    "scrolled": true
   },
   "outputs": [],
   "source": [
    "df_2019_2023.isnull().sum()"
   ]
  },
  {
   "cell_type": "code",
   "execution_count": null,
   "id": "82f1553c",
   "metadata": {
    "scrolled": true
   },
   "outputs": [],
   "source": [
    "df_2019_2023['NIBRSClass'] = df_2019_2023['NIBRSClass'].astype(str)\n",
    "df_2019_2023['Offense Type'] = df_2019_2023['Offense Type'].astype(str)\n",
    "df_2019_2023['Beat'] = df_2019_2023['Beat'].astype(str)"
   ]
  },
  {
   "cell_type": "code",
   "execution_count": null,
   "id": "3c252d48",
   "metadata": {
    "scrolled": true
   },
   "outputs": [],
   "source": [
    "crime_counts = df_2019_2023['Offense Type'].value_counts().sort_values(ascending=False).nlargest(20)\n",
    "plt.figure(figsize=(10,4))\n",
    "# create countplot with sorted values\n",
    "sns.countplot(x='Offense Type', data=df_2019_2023, order=crime_counts.index, palette='plasma',orient=\"h\")\n",
    "\n",
    "# set axis labels and title\n",
    "plt.xlabel('')\n",
    "plt.ylabel('Count')\n",
    "plt.title('Major Crimes in Houston for 2019 - 2023', fontweight=10, fontsize=10)\n",
    "\n",
    "# rotate x-axis labels for readability\n",
    "plt.xticks(rotation=90)\n",
    "\n",
    "# display plot\n",
    "plt.show()"
   ]
  },
  {
   "cell_type": "code",
   "execution_count": null,
   "id": "7234069f",
   "metadata": {
    "scrolled": true
   },
   "outputs": [],
   "source": [
    "df_2019_2023['NIBRSClass'].value_counts().head(10)"
   ]
  },
  {
   "cell_type": "code",
   "execution_count": null,
   "id": "bffb3b91",
   "metadata": {
    "scrolled": true
   },
   "outputs": [],
   "source": [
    "df_2019_2023['Offense Type'].unique()"
   ]
  },
  {
   "cell_type": "code",
   "execution_count": null,
   "id": "9f35c89b",
   "metadata": {
    "scrolled": true
   },
   "outputs": [],
   "source": [
    "top_nbrs_classes = df_2019_2023['NIBRSClass'].value_counts().index[:10].tolist()\n",
    "\n",
    "for nbrs_class in top_nbrs_classes:\n",
    "    nbrs_desc = df_2019_2023.loc[df_2019_2023['NIBRSClass'] == nbrs_class, 'Offense Type'].values[0]\n",
    "    print(f'{nbrs_class}: {nbrs_desc}')"
   ]
  },
  {
   "cell_type": "code",
   "execution_count": null,
   "id": "e4f5fadd",
   "metadata": {
    "scrolled": true
   },
   "outputs": [],
   "source": [
    "# create new column for month\n",
    "df_2019_2023['Date']=pd.to_datetime(df_2019_2023['Date'])\n",
    "df_2019_2023['Month'] = df_2019_2023['Date'].dt.month\n",
    "# group by month and crime, count occurrences, and select top 5\n",
    "plt.figure(figsize=(6,10))\n",
    "top_crimes=df_2019_2023.groupby(['Month', 'NIBRSClass']).size().sort_values(ascending=False).groupby('Month').nlargest(3)\n",
    "top_crimes = top_crimes.reset_index(level=0, drop=True).reset_index()\n",
    "# create bar plot\n",
    "sns.catplot(data=top_crimes, x='Month', y=0, hue='NIBRSClass', kind='bar', height=6, aspect=2, palette='Set2')\n",
    "plt.yticks([0,4000,8000,12000])\n",
    "plt.xticks(list(range(0,12)),['Jan','Feb','Mar','Apr','May','Jun','Jul','Aug','Sep','Oct','Nov','Dec'])\n",
    "# set axis labels and title\n",
    "plt.xlabel('Month')\n",
    "plt.ylabel('Count')\n",
    "plt.title('Top 3 Crimes by Month for the years 2019-2023')\n",
    "\n",
    "# display plot\n",
    "plt.show()"
   ]
  },
  {
   "cell_type": "code",
   "execution_count": null,
   "id": "6928db6d",
   "metadata": {
    "scrolled": true
   },
   "outputs": [],
   "source": [
    "# Get the top 20 values for Premise and NIBRSClass\n",
    "top_beat = df_2019_2023['Beat'].value_counts().head(20).index.tolist()\n",
    "top_nibrsclass = df_2019_2023['NIBRSClass'].value_counts().head(20).index.tolist()\n",
    "\n",
    "# Filter the dataframe to only include the top 10 values\n",
    "df_filtered = df_2019_2023.loc[(df_2019_2023['Beat'].isin(top_beat)) & (df_2019_2023['NIBRSClass'].isin(top_nibrsclass))]\n",
    "\n",
    "# Create a pivot table and normalize the data\n",
    "beat_by_type = df_filtered.pivot_table(values='Incident', index='Beat', columns='NIBRSClass', aggfunc=np.size).fillna(0)"
   ]
  },
  {
   "cell_type": "code",
   "execution_count": null,
   "id": "1024f945",
   "metadata": {
    "scrolled": true
   },
   "outputs": [],
   "source": [
    "from sklearn.cluster import AgglomerativeClustering as AC\n",
    "    \n",
    "def normalize(df):\n",
    "    result = df.copy()\n",
    "    for feature_name in df.columns:\n",
    "        max_value = df[feature_name].max()\n",
    "        min_value = df[feature_name].min()\n",
    "        result[feature_name] = (df[feature_name] - min_value) / (max_value - min_value)\n",
    "    return result\n",
    "\n",
    "\n",
    "df_lt = normalize(beat_by_type)\n",
    "ix = AC(3).fit(df_lt.T).labels_.argsort() # a trick to make better heatmaps\n",
    "plt.figure(figsize=(11,5))\n",
    "plt.imshow(df_lt.T.iloc[ix,:], cmap='Reds')\n",
    "plt.colorbar(fraction=0.03)\n",
    "plt.xticks(np.arange(df_lt.shape[0]), df_lt.index, rotation='vertical')\n",
    "plt.yticks(np.arange(df_lt.shape[1]), df_lt.columns)\n",
    "plt.title('Normalized Top 20 Beats frequency for top 20 crimes')\n",
    "plt.grid(False)\n",
    "plt.show()"
   ]
  },
  {
   "cell_type": "markdown",
   "id": "71066e54",
   "metadata": {},
   "source": [
    "### Clustering of data based on premise and type of crime "
   ]
  },
  {
   "cell_type": "code",
   "execution_count": null,
   "id": "d1b6c11e",
   "metadata": {
    "scrolled": true
   },
   "outputs": [],
   "source": [
    "# Get the top 15 values for Premise and NIBRSClass\n",
    "top_premise = df_2019_2023['Premise'].value_counts().head(15).index.tolist()\n",
    "top_nibrsclass = df_2019_2023['NIBRSClass'].value_counts().head(15).index.tolist()\n",
    "\n",
    "# Filter the dataframe to only include the top 10 values\n",
    "df_filtered = df_2019_2023.loc[(df_2019_2023['Premise'].isin(top_premise)) & (df_2019_2023['NIBRSClass'].isin(top_nibrsclass))]\n",
    "\n",
    "# Create a pivot table and normalize the data\n",
    "location_by_type = df_filtered.pivot_table(values='Incident', index='Premise', columns='NIBRSClass', aggfunc=np.size).fillna(0)"
   ]
  },
  {
   "cell_type": "code",
   "execution_count": null,
   "id": "6339316b",
   "metadata": {
    "scrolled": true
   },
   "outputs": [],
   "source": [
    "df_lt = normalize(location_by_type)\n",
    "ix = AC(3).fit(df_lt.T).labels_.argsort() # a trick to make better heatmaps\n",
    "plt.figure(figsize=(11,5))\n",
    "plt.imshow(df_lt.T.iloc[ix,:], cmap='Reds')\n",
    "plt.colorbar(fraction=0.03)\n",
    "plt.xticks(np.arange(df_lt.shape[0]), df_lt.index, rotation='vertical')\n",
    "plt.yticks(np.arange(df_lt.shape[1]), df_lt.columns)\n",
    "plt.title('Normalized Top 15 locations frequency for top 15 crimes')\n",
    "plt.grid(False)\n",
    "plt.show()"
   ]
  },
  {
   "cell_type": "code",
   "execution_count": null,
   "id": "d39909c2",
   "metadata": {
    "scrolled": true
   },
   "outputs": [],
   "source": []
  },
  {
   "cell_type": "code",
   "execution_count": null,
   "id": "259f3491",
   "metadata": {
    "scrolled": true
   },
   "outputs": [],
   "source": [
    "df_tmp = df_2019_2023.set_index('Date') \n",
    "plt.figure(figsize=(15,7))\n",
    "df_tmp.resample('M').size().plot(legend=False)\n",
    "plt.title('Number of crimes per month (2019 - 2023)')\n",
    "plt.xlabel('Months')\n",
    "plt.ylabel('Number of crimes')\n",
    "plt.show()"
   ]
  },
  {
   "cell_type": "code",
   "execution_count": null,
   "id": "f4dfa311",
   "metadata": {
    "scrolled": true
   },
   "outputs": [],
   "source": [
    "color = plt.cm.viridis(np.linspace(0, 1, 30))\n",
    "df_tmp['Hour'].value_counts().sort_values(ascending=False).plot.bar(color = color, figsize = (10, 2))\n",
    "plt.title('Distribution of crime over the day', fontsize = 20)\n",
    "plt.show()"
   ]
  },
  {
   "cell_type": "markdown",
   "id": "e70381fb",
   "metadata": {},
   "source": [
    "## 2009-2018 dataset "
   ]
  },
  {
   "cell_type": "code",
   "execution_count": null,
   "id": "597db627",
   "metadata": {
    "scrolled": true
   },
   "outputs": [],
   "source": [
    "list(df_dict.keys())[:-6]"
   ]
  },
  {
   "cell_type": "code",
   "execution_count": null,
   "id": "d3704d7d",
   "metadata": {
    "scrolled": true
   },
   "outputs": [],
   "source": [
    "list_df=[]\n",
    "for i in list(df_dict.keys())[:-6]:\n",
    "    list_df.append(df_dict[i])"
   ]
  },
  {
   "cell_type": "code",
   "execution_count": null,
   "id": "dbe0fedc",
   "metadata": {
    "scrolled": true
   },
   "outputs": [],
   "source": [
    "df = pd.concat(list_df)\n",
    "df.reset_index(drop=True, inplace=True)"
   ]
  },
  {
   "cell_type": "code",
   "execution_count": null,
   "id": "c3effa1f",
   "metadata": {
    "scrolled": true
   },
   "outputs": [],
   "source": [
    "df.head()"
   ]
  },
  {
   "cell_type": "code",
   "execution_count": null,
   "id": "dda2ae62",
   "metadata": {
    "scrolled": true
   },
   "outputs": [],
   "source": [
    "df.tail()"
   ]
  },
  {
   "cell_type": "code",
   "execution_count": null,
   "id": "2cef6987",
   "metadata": {
    "scrolled": true
   },
   "outputs": [],
   "source": [
    "df['Offense Type'].unique()"
   ]
  },
  {
   "cell_type": "code",
   "execution_count": null,
   "id": "56fc6c53",
   "metadata": {
    "scrolled": true
   },
   "outputs": [],
   "source": [
    "df=df[df['Offense Type']!='1']"
   ]
  },
  {
   "cell_type": "code",
   "execution_count": null,
   "id": "daedabfd",
   "metadata": {
    "scrolled": true
   },
   "outputs": [],
   "source": [
    "df['Offense Type'].unique()"
   ]
  },
  {
   "cell_type": "code",
   "execution_count": null,
   "id": "21596fdc",
   "metadata": {
    "scrolled": true
   },
   "outputs": [],
   "source": [
    "df['Offense Type'].value_counts()"
   ]
  },
  {
   "cell_type": "code",
   "execution_count": null,
   "id": "a824b5d1",
   "metadata": {
    "scrolled": true
   },
   "outputs": [],
   "source": [
    "df['Date']=pd.to_datetime(df['Date'])\n",
    "df_1 = df.set_index('Date') \n",
    "plt.figure(figsize=(15,8))\n",
    "\n",
    "plt.subplot(2,1,1)\n",
    "df_1.resample('M').size().plot(legend=False)\n",
    "plt.title('Number of crimes per month (2009 - 2017)')\n",
    "plt.xlabel('Year')\n",
    "plt.ylabel('Number of crimes')\n",
    "plt.show()\n",
    "plt.figure(figsize=(8,5))\n",
    "\n",
    "plt.subplot(2,1,2)\n",
    "sns.countplot(x='Offense Type', data=df, order=df['Offense Type'].value_counts().sort_values(ascending=False).index, palette='plasma',orient=\"h\")\n",
    "plt.title('Major Crimes in Houston for 2019 - 2023', fontweight=10, fontsize=10)\n",
    "plt.yticks([0, 200000, 400000, 600000], ['0', '2L', '4L', '6L'])\n",
    "plt.xlabel(\"\")\n",
    "plt.ylabel(\"\")\n",
    "plt.xticks(rotation=90)\n",
    "plt.show()"
   ]
  },
  {
   "cell_type": "code",
   "execution_count": null,
   "id": "99bb591c",
   "metadata": {
    "scrolled": true
   },
   "outputs": [],
   "source": [
    "df['Date'] = pd.to_datetime(df['Date'])\n",
    "df_1 = df.set_index('Date')\n",
    "\n",
    "plt.figure(figsize=(15, 7))\n",
    "plt.yticks([0, 2000, 4000, 6000,8000,10000,12000], ['0', '2k', '4k', '6k','8k','10k','12k'])\n",
    "df_1.resample('M').size().plot(legend=False)\n",
    "plt.title('Number of crimes per month (2009 - 2017)')\n",
    "plt.xlabel('Year')\n",
    "plt.ylabel('Number of crimes')\n",
    "\n",
    "ax_minor = plt.axes([0.65, 0.33, 0.18, 0.2])  # [left, bottom, width, height]\n",
    "plt.yticks([0, 200000, 400000, 600000], ['0', '2L', '4L', '6L'])\n",
    "sns.countplot(x='Offense Type', data=df, order=df['Offense Type'].value_counts().sort_values(ascending=False).index, palette='plasma',orient=\"h\")\n",
    "plt.xticks(rotation=90)\n",
    "ax_minor.set_xlabel('') \n",
    "ax_minor.set_ylabel('')\n",
    "ax_minor.set_title('Major Offense Type in Houston for 2009-17', fontweight=10, fontsize=10)\n",
    "ax_minor.tick_params(axis='x', rotation=90)\n",
    "plt.show()"
   ]
  },
  {
   "cell_type": "code",
   "execution_count": null,
   "id": "55638681",
   "metadata": {
    "scrolled": true
   },
   "outputs": [],
   "source": []
  },
  {
   "cell_type": "code",
   "execution_count": null,
   "id": "298f9d41",
   "metadata": {
    "scrolled": true
   },
   "outputs": [],
   "source": []
  },
  {
   "cell_type": "markdown",
   "id": "a6c69740",
   "metadata": {},
   "source": [
    " ### Prediction using Facebook Prophet model"
   ]
  },
  {
   "cell_type": "code",
   "execution_count": null,
   "id": "9b5daf37",
   "metadata": {
    "scrolled": true
   },
   "outputs": [],
   "source": []
  },
  {
   "cell_type": "code",
   "execution_count": null,
   "id": "1e56312b",
   "metadata": {
    "scrolled": true
   },
   "outputs": [],
   "source": []
  }
 ],
 "metadata": {
  "kernelspec": {
   "display_name": "Python 3 (ipykernel)",
   "language": "python",
   "name": "python3"
  },
  "language_info": {
   "codemirror_mode": {
    "name": "ipython",
    "version": 3
   },
   "file_extension": ".py",
   "mimetype": "text/x-python",
   "name": "python",
   "nbconvert_exporter": "python",
   "pygments_lexer": "ipython3",
   "version": "3.9.13"
  }
 },
 "nbformat": 4,
 "nbformat_minor": 5
}
